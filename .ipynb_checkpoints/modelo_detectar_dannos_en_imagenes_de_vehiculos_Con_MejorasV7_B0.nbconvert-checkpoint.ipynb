{
 "cells": [
  {
   "cell_type": "code",
   "execution_count": 1,
   "metadata": {
    "execution": {
     "iopub.execute_input": "2025-04-05T16:05:28.013779Z",
     "iopub.status.busy": "2025-04-05T16:05:28.013466Z",
     "iopub.status.idle": "2025-04-05T16:05:29.973761Z",
     "shell.execute_reply": "2025-04-05T16:05:29.973231Z"
    }
   },
   "outputs": [],
   "source": [
    "# Vehicle Damage Detection System - Improved Version V7\n",
    "import torch\n",
    "import torch.nn as nn\n",
    "import torch.optim as optim\n",
    "from torch.utils.data import Dataset, DataLoader, WeightedRandomSampler\n",
    "from torchvision import models, transforms\n",
    "import pandas as pd\n",
    "import numpy as np\n",
    "from sklearn.metrics import classification_report, confusion_matrix, accuracy_score, precision_score, recall_score, f1_score\n",
    "import matplotlib.pyplot as plt\n",
    "import seaborn as sns\n",
    "from PIL import Image\n",
    "import os\n",
    "from collections import Counter\n",
    "\n",
    "# Helper function for sample weights\n",
    "def get_sample_weights(dataset):\n",
    "    \"\"\"Calculate sample weights for balanced sampling\"\"\"\n",
    "    class_counts = Counter(dataset.data['Tipos de Daño'])\n",
    "    weights = 1.0 / torch.tensor([class_counts[i] for i in dataset.data['Tipos de Daño']], dtype=torch.float)\n",
    "    return (weights / weights.sum()).to(DEVICE)"
   ]
  },
  {
   "cell_type": "code",
   "execution_count": 2,
   "metadata": {
    "execution": {
     "iopub.execute_input": "2025-04-05T16:05:29.975758Z",
     "iopub.status.busy": "2025-04-05T16:05:29.975383Z",
     "iopub.status.idle": "2025-04-05T16:05:33.743876Z",
     "shell.execute_reply": "2025-04-05T16:05:33.742485Z"
    }
   },
   "outputs": [],
   "source": [
    "# Configuration\n",
    "DEVICE = torch.device(\"cuda\" if torch.cuda.is_available() else \"cpu\")\n",
    "BATCH_SIZE = 32\n",
    "NUM_EPOCHS = 50\n",
    "MIN_SAMPLES_PER_CLASS = 20  # Increased from 15 to 20\n",
    "\n",
    "# Label mappings (unchanged from previous version)\n",
    "label_to_cls_piezas = {...}\n",
    "label_to_cls_danos = {...}\n",
    "label_to_cls_sugerencia = {...}"
   ]
  },
  {
   "cell_type": "markdown",
   "metadata": {},
   "source": [
    "## Enhanced Dataset Class with Improved Class Filtering"
   ]
  },
  {
   "cell_type": "code",
   "execution_count": 3,
   "metadata": {
    "execution": {
     "iopub.execute_input": "2025-04-05T16:05:33.747827Z",
     "iopub.status.busy": "2025-04-05T16:05:33.747437Z",
     "iopub.status.idle": "2025-04-05T16:05:33.762043Z",
     "shell.execute_reply": "2025-04-05T16:05:33.761017Z"
    }
   },
   "outputs": [],
   "source": [
    "class EnhancedVehicleDamageDataset(Dataset):\n",
    "    def __init__(self, csv_path, img_dir, transform=None):\n",
    "        self.data = pd.read_csv(csv_path, sep='|')\n",
    "        self.img_dir = img_dir\n",
    "        self.transform = transform\n",
    "        \n",
    "        # Filter rare classes and group some vehicle parts\n",
    "        self._filter_and_group_classes()\n",
    "        \n",
    "    def _filter_and_group_classes(self):\n",
    "        \"\"\"Filter rare classes and group similar vehicle parts\"\"\"\n",
    "        # Group rare vehicle parts into broader categories\n",
    "        def group_parts(part_id):\n",
    "            rare_parts = [4,5,7,8,9,19,20,21,22,23,24,25,27,28,29,30,31,32,33,34,35,36,37,51,52,54,59,60,61,62]\n",
    "            return 99 if part_id in rare_parts else part_id\n",
    "            \n",
    "        self.data['Piezas del Vehículo'] = self.data['Piezas del Vehículo'].apply(group_parts)\n",
    "        \n",
    "        # Filter classes with insufficient samples\n",
    "        for task in ['Tipos de Daño', 'Piezas del Vehículo', 'Sugerencia']:\n",
    "            class_counts = self.data[task].value_counts()\n",
    "            valid_classes = class_counts[class_counts >= MIN_SAMPLES_PER_CLASS].index\n",
    "            self.data = self.data[self.data[task].isin(valid_classes)]\n",
    "            \n",
    "    def __len__(self):\n",
    "        return len(self.data)\n",
    "        \n",
    "    def __getitem__(self, idx):\n",
    "        img_path = os.path.join(self.img_dir, self.data.iloc[idx, 0])\n",
    "        image = Image.open(img_path).convert('RGB')\n",
    "        \n",
    "        labels = {\n",
    "            'damage': torch.tensor(self.data.iloc[idx, 1] - 1, dtype=torch.long),\n",
    "            'part': torch.tensor(self.data.iloc[idx, 2] - 1, dtype=torch.long),\n",
    "            'suggestion': torch.tensor(self.data.iloc[idx, 3] - 1, dtype=torch.long)\n",
    "        }\n",
    "        \n",
    "        if self.transform:\n",
    "            image = self.transform(image)\n",
    "            \n",
    "        return image, labels"
   ]
  }
 ],
 "metadata": {
  "kernelspec": {
   "display_name": "venv_kernel",
   "language": "python",
   "name": "venv_kernel"
  },
  "language_info": {
   "codemirror_mode": {
    "name": "ipython",
    "version": 3
   },
   "file_extension": ".py",
   "mimetype": "text/x-python",
   "name": "python",
   "nbconvert_exporter": "python",
   "pygments_lexer": "ipython3",
   "version": "3.11.11"
  }
 },
 "nbformat": 4,
 "nbformat_minor": 4
}
